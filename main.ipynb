{
 "cells": [
  {
   "cell_type": "markdown",
   "metadata": {},
   "source": [
    "# Read the data\n",
    "\n",
    "## Choose a dataset\n",
    "- Online Shoppers Purchasing Intention Dataset\n",
    "- 原因：特徵都有先命名了\n",
    "\n",
    "## Analyze the data (statistics, correlation...)\n",
    "- 所有的特徵都沒有缺失值問題\n",
    "- 部分特徵 min max 差異數值多出兩到三個數量級，可能比較有影響\n",
    "- Month, VisitorType 為 String，需做數值轉換\n",
    "\n",
    "## Define a reasonable problem\n",
    "- 我認為 Revenue 適合當所求問題答案 y\n",
    "- 以其他特徵當作影響的因素 x\n",
    "- 問題的意義：哪些特徵對獲利最有影響\n",
    "- Revenue 的值為 true or false，不需再做 Label"
   ]
  },
  {
   "cell_type": "code",
   "execution_count": 370,
   "metadata": {},
   "outputs": [
    {
     "output_type": "stream",
     "name": "stdout",
     "text": "<class 'pandas.core.frame.DataFrame'>\nRangeIndex: 12330 entries, 0 to 12329\nData columns (total 18 columns):\n #   Column                   Non-Null Count  Dtype  \n---  ------                   --------------  -----  \n 0   Administrative           12330 non-null  int64  \n 1   Administrative_Duration  12330 non-null  float64\n 2   Informational            12330 non-null  int64  \n 3   Informational_Duration   12330 non-null  float64\n 4   ProductRelated           12330 non-null  int64  \n 5   ProductRelated_Duration  12330 non-null  float64\n 6   BounceRates              12330 non-null  float64\n 7   ExitRates                12330 non-null  float64\n 8   PageValues               12330 non-null  float64\n 9   SpecialDay               12330 non-null  float64\n 10  Month                    12330 non-null  object \n 11  OperatingSystems         12330 non-null  int64  \n 12  Browser                  12330 non-null  int64  \n 13  Region                   12330 non-null  int64  \n 14  TrafficType              12330 non-null  int64  \n 15  VisitorType              12330 non-null  object \n 16  Weekend                  12330 non-null  bool   \n 17  Revenue                  12330 non-null  bool   \ndtypes: bool(2), float64(7), int64(7), object(2)\nmemory usage: 1.5+ MB\n"
    },
    {
     "output_type": "execute_result",
     "data": {
      "text/plain": "       Administrative  Administrative_Duration  Informational  \\\ncount    12330.000000             12330.000000   12330.000000   \nmean         2.315166                80.818611       0.503569   \nstd          3.321784               176.779107       1.270156   \nmin          0.000000                 0.000000       0.000000   \n25%          0.000000                 0.000000       0.000000   \n50%          1.000000                 7.500000       0.000000   \n75%          4.000000                93.256250       0.000000   \nmax         27.000000              3398.750000      24.000000   \n\n       Informational_Duration  ProductRelated  ProductRelated_Duration  \\\ncount            12330.000000    12330.000000             12330.000000   \nmean                34.472398       31.731468              1194.746220   \nstd                140.749294       44.475503              1913.669288   \nmin                  0.000000        0.000000                 0.000000   \n25%                  0.000000        7.000000               184.137500   \n50%                  0.000000       18.000000               598.936905   \n75%                  0.000000       38.000000              1464.157213   \nmax               2549.375000      705.000000             63973.522230   \n\n        BounceRates     ExitRates    PageValues    SpecialDay  \\\ncount  12330.000000  12330.000000  12330.000000  12330.000000   \nmean       0.022191      0.043073      5.889258      0.061427   \nstd        0.048488      0.048597     18.568437      0.198917   \nmin        0.000000      0.000000      0.000000      0.000000   \n25%        0.000000      0.014286      0.000000      0.000000   \n50%        0.003112      0.025156      0.000000      0.000000   \n75%        0.016813      0.050000      0.000000      0.000000   \nmax        0.200000      0.200000    361.763742      1.000000   \n\n       OperatingSystems       Browser        Region   TrafficType  \ncount      12330.000000  12330.000000  12330.000000  12330.000000  \nmean           2.124006      2.357097      3.147364      4.069586  \nstd            0.911325      1.717277      2.401591      4.025169  \nmin            1.000000      1.000000      1.000000      1.000000  \n25%            2.000000      2.000000      1.000000      2.000000  \n50%            2.000000      2.000000      3.000000      2.000000  \n75%            3.000000      2.000000      4.000000      4.000000  \nmax            8.000000     13.000000      9.000000     20.000000  ",
      "text/html": "<div>\n<style scoped>\n    .dataframe tbody tr th:only-of-type {\n        vertical-align: middle;\n    }\n\n    .dataframe tbody tr th {\n        vertical-align: top;\n    }\n\n    .dataframe thead th {\n        text-align: right;\n    }\n</style>\n<table border=\"1\" class=\"dataframe\">\n  <thead>\n    <tr style=\"text-align: right;\">\n      <th></th>\n      <th>Administrative</th>\n      <th>Administrative_Duration</th>\n      <th>Informational</th>\n      <th>Informational_Duration</th>\n      <th>ProductRelated</th>\n      <th>ProductRelated_Duration</th>\n      <th>BounceRates</th>\n      <th>ExitRates</th>\n      <th>PageValues</th>\n      <th>SpecialDay</th>\n      <th>OperatingSystems</th>\n      <th>Browser</th>\n      <th>Region</th>\n      <th>TrafficType</th>\n    </tr>\n  </thead>\n  <tbody>\n    <tr>\n      <th>count</th>\n      <td>12330.000000</td>\n      <td>12330.000000</td>\n      <td>12330.000000</td>\n      <td>12330.000000</td>\n      <td>12330.000000</td>\n      <td>12330.000000</td>\n      <td>12330.000000</td>\n      <td>12330.000000</td>\n      <td>12330.000000</td>\n      <td>12330.000000</td>\n      <td>12330.000000</td>\n      <td>12330.000000</td>\n      <td>12330.000000</td>\n      <td>12330.000000</td>\n    </tr>\n    <tr>\n      <th>mean</th>\n      <td>2.315166</td>\n      <td>80.818611</td>\n      <td>0.503569</td>\n      <td>34.472398</td>\n      <td>31.731468</td>\n      <td>1194.746220</td>\n      <td>0.022191</td>\n      <td>0.043073</td>\n      <td>5.889258</td>\n      <td>0.061427</td>\n      <td>2.124006</td>\n      <td>2.357097</td>\n      <td>3.147364</td>\n      <td>4.069586</td>\n    </tr>\n    <tr>\n      <th>std</th>\n      <td>3.321784</td>\n      <td>176.779107</td>\n      <td>1.270156</td>\n      <td>140.749294</td>\n      <td>44.475503</td>\n      <td>1913.669288</td>\n      <td>0.048488</td>\n      <td>0.048597</td>\n      <td>18.568437</td>\n      <td>0.198917</td>\n      <td>0.911325</td>\n      <td>1.717277</td>\n      <td>2.401591</td>\n      <td>4.025169</td>\n    </tr>\n    <tr>\n      <th>min</th>\n      <td>0.000000</td>\n      <td>0.000000</td>\n      <td>0.000000</td>\n      <td>0.000000</td>\n      <td>0.000000</td>\n      <td>0.000000</td>\n      <td>0.000000</td>\n      <td>0.000000</td>\n      <td>0.000000</td>\n      <td>0.000000</td>\n      <td>1.000000</td>\n      <td>1.000000</td>\n      <td>1.000000</td>\n      <td>1.000000</td>\n    </tr>\n    <tr>\n      <th>25%</th>\n      <td>0.000000</td>\n      <td>0.000000</td>\n      <td>0.000000</td>\n      <td>0.000000</td>\n      <td>7.000000</td>\n      <td>184.137500</td>\n      <td>0.000000</td>\n      <td>0.014286</td>\n      <td>0.000000</td>\n      <td>0.000000</td>\n      <td>2.000000</td>\n      <td>2.000000</td>\n      <td>1.000000</td>\n      <td>2.000000</td>\n    </tr>\n    <tr>\n      <th>50%</th>\n      <td>1.000000</td>\n      <td>7.500000</td>\n      <td>0.000000</td>\n      <td>0.000000</td>\n      <td>18.000000</td>\n      <td>598.936905</td>\n      <td>0.003112</td>\n      <td>0.025156</td>\n      <td>0.000000</td>\n      <td>0.000000</td>\n      <td>2.000000</td>\n      <td>2.000000</td>\n      <td>3.000000</td>\n      <td>2.000000</td>\n    </tr>\n    <tr>\n      <th>75%</th>\n      <td>4.000000</td>\n      <td>93.256250</td>\n      <td>0.000000</td>\n      <td>0.000000</td>\n      <td>38.000000</td>\n      <td>1464.157213</td>\n      <td>0.016813</td>\n      <td>0.050000</td>\n      <td>0.000000</td>\n      <td>0.000000</td>\n      <td>3.000000</td>\n      <td>2.000000</td>\n      <td>4.000000</td>\n      <td>4.000000</td>\n    </tr>\n    <tr>\n      <th>max</th>\n      <td>27.000000</td>\n      <td>3398.750000</td>\n      <td>24.000000</td>\n      <td>2549.375000</td>\n      <td>705.000000</td>\n      <td>63973.522230</td>\n      <td>0.200000</td>\n      <td>0.200000</td>\n      <td>361.763742</td>\n      <td>1.000000</td>\n      <td>8.000000</td>\n      <td>13.000000</td>\n      <td>9.000000</td>\n      <td>20.000000</td>\n    </tr>\n  </tbody>\n</table>\n</div>"
     },
     "metadata": {},
     "execution_count": 370
    }
   ],
   "source": [
    "import time\n",
    "import pandas as pd\n",
    "import numpy as np\n",
    "\n",
    "EXECUTION_START_TIME = time.time()\n",
    "\n",
    "df = pd.read_csv('./data/online_shoppers_intention.csv')\n",
    "df.info()\n",
    "df.describe()"
   ]
  },
  {
   "cell_type": "code",
   "execution_count": 371,
   "metadata": {},
   "outputs": [
    {
     "output_type": "execute_result",
     "data": {
      "text/plain": "       Administrative_Duration  Informational_Duration  \\\ncount             12330.000000            12330.000000   \nmean                 80.818611               34.472398   \nstd                 176.779107              140.749294   \nmin                   0.000000                0.000000   \n25%                   0.000000                0.000000   \n50%                   7.500000                0.000000   \n75%                  93.256250                0.000000   \nmax                3398.750000             2549.375000   \n\n       ProductRelated_Duration  \ncount             12330.000000  \nmean               1194.746220  \nstd                1913.669288  \nmin                   0.000000  \n25%                 184.137500  \n50%                 598.936905  \n75%                1464.157213  \nmax               63973.522230  ",
      "text/html": "<div>\n<style scoped>\n    .dataframe tbody tr th:only-of-type {\n        vertical-align: middle;\n    }\n\n    .dataframe tbody tr th {\n        vertical-align: top;\n    }\n\n    .dataframe thead th {\n        text-align: right;\n    }\n</style>\n<table border=\"1\" class=\"dataframe\">\n  <thead>\n    <tr style=\"text-align: right;\">\n      <th></th>\n      <th>Administrative_Duration</th>\n      <th>Informational_Duration</th>\n      <th>ProductRelated_Duration</th>\n    </tr>\n  </thead>\n  <tbody>\n    <tr>\n      <th>count</th>\n      <td>12330.000000</td>\n      <td>12330.000000</td>\n      <td>12330.000000</td>\n    </tr>\n    <tr>\n      <th>mean</th>\n      <td>80.818611</td>\n      <td>34.472398</td>\n      <td>1194.746220</td>\n    </tr>\n    <tr>\n      <th>std</th>\n      <td>176.779107</td>\n      <td>140.749294</td>\n      <td>1913.669288</td>\n    </tr>\n    <tr>\n      <th>min</th>\n      <td>0.000000</td>\n      <td>0.000000</td>\n      <td>0.000000</td>\n    </tr>\n    <tr>\n      <th>25%</th>\n      <td>0.000000</td>\n      <td>0.000000</td>\n      <td>184.137500</td>\n    </tr>\n    <tr>\n      <th>50%</th>\n      <td>7.500000</td>\n      <td>0.000000</td>\n      <td>598.936905</td>\n    </tr>\n    <tr>\n      <th>75%</th>\n      <td>93.256250</td>\n      <td>0.000000</td>\n      <td>1464.157213</td>\n    </tr>\n    <tr>\n      <th>max</th>\n      <td>3398.750000</td>\n      <td>2549.375000</td>\n      <td>63973.522230</td>\n    </tr>\n  </tbody>\n</table>\n</div>"
     },
     "metadata": {},
     "execution_count": 371
    }
   ],
   "source": [
    "df[['Administrative_Duration', 'Informational_Duration', 'ProductRelated_Duration']].describe()"
   ]
  },
  {
   "cell_type": "code",
   "execution_count": 372,
   "metadata": {},
   "outputs": [
    {
     "output_type": "stream",
     "name": "stdout",
     "text": "Month        VisitorType\n0       Feb  Returning_Visitor\n1       Feb  Returning_Visitor\n2       Feb  Returning_Visitor\n3       Feb  Returning_Visitor\n4       Feb  Returning_Visitor\n...     ...                ...\n12325   Dec  Returning_Visitor\n12326   Nov  Returning_Visitor\n12327   Nov  Returning_Visitor\n12328   Nov  Returning_Visitor\n12329   Nov        New_Visitor\n\n[12330 rows x 2 columns]\n"
    }
   ],
   "source": [
    "print(df[['Month', 'VisitorType']])"
   ]
  },
  {
   "cell_type": "markdown",
   "metadata": {},
   "source": [
    "# 分出 train_x, train_y"
   ]
  },
  {
   "cell_type": "code",
   "execution_count": 373,
   "metadata": {},
   "outputs": [],
   "source": [
    "from sklearn.preprocessing import LabelEncoder\n",
    "\n",
    "def label_encoder(data_df):\n",
    "    le = LabelEncoder()\n",
    "    le.fit(data_df)\n",
    "    return le.transform(data_df)\n",
    "\n",
    "train_x = df[['Administrative', 'Administrative_Duration', 'Informational', 'Informational_Duration', 'ProductRelated', 'ProductRelated_Duration', 'BounceRates', 'ExitRates', 'PageValues', 'SpecialDay', 'Month', 'OperatingSystems', 'Browser', 'Region', 'TrafficType', 'VisitorType', 'Weekend']]\n",
    "train_y = df['Revenue']\n",
    "\n",
    "train_x['Month'] = label_encoder(train_x['Month'])\n",
    "train_x['VisitorType'] = label_encoder(train_x['VisitorType'])"
   ]
  },
  {
   "cell_type": "markdown",
   "metadata": {},
   "source": [
    "# 訓練模型並預測\n",
    "- 決定仿照作業二的訓練方式及計算準確度的方式\n",
    "- 首先先在不做任何額外 preprocess 條件下嘗試"
   ]
  },
  {
   "cell_type": "code",
   "execution_count": 374,
   "metadata": {},
   "outputs": [
    {
     "output_type": "stream",
     "name": "stdout",
     "text": "Predict Result Accuracy:\n\naverage train accuracy: 0.9466432369108768\n    min train accuracy: 0.9443993872217716\n    max train accuracy: 0.9489952239343967\naverage valid accuracy: 0.9020275750202756\n    min valid accuracy: 0.8905109489051095\n    max valid accuracy: 0.910786699107867\n"
    }
   ],
   "source": [
    "from sklearn.model_selection import KFold\n",
    "from sklearn.metrics import accuracy_score\n",
    "from sklearn.ensemble import RandomForestClassifier\n",
    "\n",
    "# Administrative Administrative_Duration Informational Informational_Duration ProductRelated ProductRelated_Duration BounceRates ExitRates PageValues SpecialDay Month OperatingSystems Browser Region TrafficType VisitorType Weekend\n",
    "\n",
    "def train_and_valid_acc(kf_n_splits, rf_max_depth, rf_n_estimators):\n",
    "    kf = KFold(n_splits=kf_n_splits, random_state=0, shuffle=True)\n",
    "    kf.get_n_splits(train_x)\n",
    "    train_acc_list = []\n",
    "    valid_acc_list = []\n",
    "    for train_index, valid_index in kf.split(train_x):\n",
    "        train_x_split = train_x.iloc[train_index]\n",
    "        train_y_split = train_y.iloc[train_index]\n",
    "        valid_x_split = train_x.iloc[valid_index]\n",
    "        valid_y_split = train_y.iloc[valid_index]\n",
    "        model = RandomForestClassifier(max_depth=rf_max_depth,  n_estimators=rf_n_estimators, random_state=0)\n",
    "        model.fit(train_x_split, train_y_split)\n",
    "        train_pred_y = model.predict(train_x_split)\n",
    "        train_acc = accuracy_score(train_y_split, train_pred_y)\n",
    "        valid_pred_y = model.predict(valid_x_split)\n",
    "        valid_acc = accuracy_score(valid_y_split, valid_pred_y)\n",
    "        train_acc_list.append(train_acc)\n",
    "        valid_acc_list.append(valid_acc)\n",
    "    print(\"Predict Result Accuracy:\\n\")\n",
    "    print((\n",
    "        'average train accuracy: {}\\n' +\n",
    "        '    min train accuracy: {}\\n' +\n",
    "        '    max train accuracy: {}\\n' +\n",
    "        'average valid accuracy: {}\\n' +\n",
    "        '    min valid accuracy: {}\\n' +\n",
    "        '    max valid accuracy: {}').format(\n",
    "        np.mean(train_acc_list),\n",
    "        np.min(train_acc_list),\n",
    "        np.max(train_acc_list),\n",
    "        np.mean(valid_acc_list),\n",
    "        np.min(valid_acc_list),\n",
    "        np.max(valid_acc_list)\n",
    "    ))\n",
    "\n",
    "train_and_valid_acc(kf_n_splits = 10, rf_max_depth=None rf_n_estimators = 100)\n"
   ]
  },
  {
   "cell_type": "markdown",
   "metadata": {},
   "source": [
    "# Improved Results Step1\n",
    "- 結果明顯 overfitting\n",
    "- 推測是使用的特徵太多\n",
    "- Drop 掉原始資料 std 過小的特徵"
   ]
  },
  {
   "cell_type": "code",
   "execution_count": 375,
   "metadata": {},
   "outputs": [
    {
     "output_type": "stream",
     "name": "stdout",
     "text": "Predict Result Accuracy:\n\naverage train accuracy: 0.9999819771109308\n    min train accuracy: 0.9999098855546544\n    max train accuracy: 1.0\naverage valid accuracy: 0.9030008110300081\n    min valid accuracy: 0.8929440389294404\n    max valid accuracy: 0.9148418491484185\n"
    }
   ],
   "source": [
    "train_x.drop(['BounceRates', 'ExitRates', 'SpecialDay'], axis=1)\n",
    "train_and_valid_acc(kf_n_splits = 10, rf_max_depth=None, rf_n_estimators = 100)"
   ]
  },
  {
   "cell_type": "markdown",
   "metadata": {},
   "source": [
    "# Improced Results Step2\n",
    "- 結果依然 overfitting\n",
    "- 繼續 drop"
   ]
  },
  {
   "cell_type": "code",
   "execution_count": 376,
   "metadata": {},
   "outputs": [
    {
     "output_type": "stream",
     "name": "stdout",
     "text": "Predict Result Accuracy:\n\naverage train accuracy: 0.9999819771109308\n    min train accuracy: 0.9999098855546544\n    max train accuracy: 1.0\naverage valid accuracy: 0.9030008110300081\n    min valid accuracy: 0.8929440389294404\n    max valid accuracy: 0.9148418491484185\n"
    }
   ],
   "source": [
    "train_x.drop(['Administrative', 'Informational', 'ProductRelated'], axis=1)\n",
    "train_and_valid_acc(kf_n_splits = 10, rf_max_depth=None, rf_n_estimators = 100)"
   ]
  },
  {
   "cell_type": "code",
   "execution_count": 377,
   "metadata": {},
   "outputs": [
    {
     "output_type": "stream",
     "name": "stdout",
     "text": "Predict Result Accuracy:\n\naverage train accuracy: 0.9999819771109308\n    min train accuracy: 0.9999098855546544\n    max train accuracy: 1.0\naverage valid accuracy: 0.9030008110300081\n    min valid accuracy: 0.8929440389294404\n    max valid accuracy: 0.9148418491484185\n"
    }
   ],
   "source": [
    "train_x.drop(['Month', 'OperatingSystems', 'Browser'], axis=1)\n",
    "train_and_valid_acc(kf_n_splits = 10, rf_max_depth=None, rf_n_estimators = 100)"
   ]
  },
  {
   "cell_type": "code",
   "execution_count": 365,
   "metadata": {},
   "outputs": [
    {
     "output_type": "stream",
     "name": "stdout",
     "text": "Predict Result Accuracy:\n\naverage train accuracy: 0.9999819771109308\n    min train accuracy: 0.9999098855546544\n    max train accuracy: 1.0\naverage valid accuracy: 0.9030008110300081\n    min valid accuracy: 0.8929440389294404\n    max valid accuracy: 0.9148418491484185\n"
    }
   ],
   "source": [
    "train_x.drop(['Region', 'TrafficType', 'VisitorType', 'Weekend'], axis=1)\n",
    "train_and_valid_acc(kf_n_splits = 10, rf_max_depth=None, rf_n_estimators = 100)"
   ]
  },
  {
   "cell_type": "markdown",
   "metadata": {},
   "source": [
    "# Improved Results Step3\n",
    "- 依據 HW2 經驗，推測可能是 RandomForest 取樣參數過大\n",
    "- 也可能是 RandomForest 中 tree depth 過大"
   ]
  },
  {
   "cell_type": "code",
   "execution_count": 366,
   "metadata": {},
   "outputs": [
    {
     "output_type": "stream",
     "name": "stdout",
     "text": "Predict Result Accuracy:\n\naverage train accuracy: 0.9885013967739029\n    min train accuracy: 0.9865729476435072\n    max train accuracy: 0.9900874110119853\naverage valid accuracy: 0.9026763990267639\n    min valid accuracy: 0.8921330089213301\n    max valid accuracy: 0.9148418491484185\n"
    }
   ],
   "source": [
    "train_and_valid_acc(kf_n_splits = 10, rf_max_depth=15, rf_n_estimators = 50)"
   ]
  },
  {
   "cell_type": "code",
   "execution_count": 367,
   "metadata": {},
   "outputs": [
    {
     "output_type": "stream",
     "name": "stdout",
     "text": "Predict Result Accuracy:\n\naverage train accuracy: 0.9866630620888529\n    min train accuracy: 0.9854915742993602\n    max train accuracy: 0.9879246643236911\naverage valid accuracy: 0.9014598540145986\n    min valid accuracy: 0.8872668288726683\n    max valid accuracy: 0.9132197891321979\n"
    }
   ],
   "source": [
    "train_and_valid_acc(kf_n_splits = 10, rf_max_depth=15, rf_n_estimators = 25)"
   ]
  },
  {
   "cell_type": "code",
   "execution_count": 368,
   "metadata": {},
   "outputs": [
    {
     "output_type": "stream",
     "name": "stdout",
     "text": "Predict Result Accuracy:\n\naverage train accuracy: 0.9466432369108768\n    min train accuracy: 0.9443993872217716\n    max train accuracy: 0.9489952239343967\naverage valid accuracy: 0.9020275750202756\n    min valid accuracy: 0.8905109489051095\n    max valid accuracy: 0.910786699107867\n"
    }
   ],
   "source": [
    "train_and_valid_acc(kf_n_splits = 10, rf_max_depth=10, rf_n_estimators = 20)\n"
   ]
  },
  {
   "cell_type": "markdown",
   "metadata": {},
   "source": [
    "# Final Result\n",
    "- average train accuracy: 0.9466432369108768\n",
    "- average valid accuracy: 0.9020275750202746\n"
   ]
  },
  {
   "cell_type": "code",
   "execution_count": 369,
   "metadata": {},
   "outputs": [
    {
     "output_type": "stream",
     "name": "stdout",
     "text": "total execution time: 69.86223816871643\n"
    }
   ],
   "source": [
    "EXECUTION_END_TIME = time.time()\n",
    "print('total execution time: {}'.format(EXECUTION_END_TIME - EXECUTION_START_TIME))\n",
    "\n"
   ]
  }
 ],
 "metadata": {
  "language_info": {
   "codemirror_mode": {
    "name": "ipython",
    "version": 3
   },
   "file_extension": ".py",
   "mimetype": "text/x-python",
   "name": "python",
   "nbconvert_exporter": "python",
   "pygments_lexer": "ipython3",
   "version": "3.7.3-final"
  },
  "orig_nbformat": 2,
  "kernelspec": {
   "name": "python37364bitcfd83b10ce204cfaa07de6273c33c28b",
   "display_name": "Python 3.7.3 64-bit"
  }
 },
 "nbformat": 4,
 "nbformat_minor": 2
}